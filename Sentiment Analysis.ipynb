{
 "cells": [
  {
   "cell_type": "code",
   "execution_count": 1,
   "id": "ec62a447",
   "metadata": {},
   "outputs": [
    {
     "name": "stdout",
     "output_type": "stream",
     "text": [
      "Requirement already satisfied: nltk in c:\\users\\lenovo\\anaconda3\\lib\\site-packages (3.6.5)\n",
      "Requirement already satisfied: click in c:\\users\\lenovo\\anaconda3\\lib\\site-packages (from nltk) (8.0.3)\n",
      "Requirement already satisfied: joblib in c:\\users\\lenovo\\anaconda3\\lib\\site-packages (from nltk) (1.1.0)\n",
      "Requirement already satisfied: regex>=2021.8.3 in c:\\users\\lenovo\\anaconda3\\lib\\site-packages (from nltk) (2021.8.3)\n",
      "Requirement already satisfied: tqdm in c:\\users\\lenovo\\anaconda3\\lib\\site-packages (from nltk) (4.62.3)\n",
      "Requirement already satisfied: colorama in c:\\users\\lenovo\\anaconda3\\lib\\site-packages (from click->nltk) (0.4.4)\n"
     ]
    },
    {
     "name": "stderr",
     "output_type": "stream",
     "text": [
      "[nltk_data] Downloading package punkt to\n",
      "[nltk_data]     C:\\Users\\Lenovo\\AppData\\Roaming\\nltk_data...\n",
      "[nltk_data]   Package punkt is already up-to-date!\n",
      "[nltk_data] Downloading package stopwords to\n",
      "[nltk_data]     C:\\Users\\Lenovo\\AppData\\Roaming\\nltk_data...\n",
      "[nltk_data]   Package stopwords is already up-to-date!\n",
      "[nltk_data] Downloading package wordnet to\n",
      "[nltk_data]     C:\\Users\\Lenovo\\AppData\\Roaming\\nltk_data...\n",
      "[nltk_data]   Package wordnet is already up-to-date!\n",
      "[nltk_data] Downloading package averaged_perceptron_tagger to\n",
      "[nltk_data]     C:\\Users\\Lenovo\\AppData\\Roaming\\nltk_data...\n",
      "[nltk_data]   Package averaged_perceptron_tagger is already up-to-\n",
      "[nltk_data]       date!\n"
     ]
    }
   ],
   "source": [
    "!pip install nltk\n",
    "import nltk\n",
    "nltk.download('punkt')\n",
    "nltk.download('stopwords')\n",
    "nltk.download('wordnet')\n",
    "nltk.download('averaged_perceptron_tagger')\n",
    "import pandas as pd"
   ]
  },
  {
   "cell_type": "code",
   "execution_count": 2,
   "id": "644054e9",
   "metadata": {},
   "outputs": [],
   "source": [
    "#Loading NLTK\n",
    "import nltk\n",
    "from nltk.probability import FreqDist\n"
   ]
  },
  {
   "cell_type": "markdown",
   "id": "d32fbd41",
   "metadata": {},
   "source": [
    "### Tokenization\n",
    " - Its split the paragraphs and sentences into smaller units that can be more easily assigned meaning."
   ]
  },
  {
   "cell_type": "code",
   "execution_count": 3,
   "id": "42f91f7f",
   "metadata": {
    "scrolled": true
   },
   "outputs": [
    {
     "name": "stdout",
     "output_type": "stream",
     "text": [
      "['Human minds, a fascination in itself carrying the potential of tinkering nature with the pixie dust intelligence, creating and solving the mysteries and wonders with anything but admiration.', 'However, no matter how captivating a human mind can be, it could sometimes be appalled.', 'It could be the hunger or maybe the desire to want more, to go beyond and unravel the limitations, or maybe something like pure greed.', 'Humans have never stopped and always keep evolving when it comes to intelligence and this is what makes them the supreme.', 'Intelligence calls out for supremacy and so, what if there was to evolve something that opposed a challenge to the very human minds, to their capabilities while making them question their own importance among themselves?', 'Artificial Intelligence came as a revolution, havoc when it first came to the light.', 'The concept of making machines does work on their own, like granting machines –The Intelligence.', 'The idea of making machines work like humans came back in the 19s.', 'Back then people didn’t believe in such a thing as making a non-living thing work, think, and carry tasks on its own, not to mention, to actually surpass humans themselves in those skills.', 'The facts are it did.', 'By 1997.', 'The greatest chess player, Garry Kasparov was defeated in a chess game by a machine and this is where exactly, a top skilled human lost to a mere machine created by another who by himself could’ve never defeated him.', 'It was a rule of power, of betterment, of skills, and the granted supremacy.', 'Were AI and Machines just tools?', 'Equipment?', 'Something that helped an unskilled person with his mind and intelligence creates something that could do the skilled work for him with perfection and precision?', 'Well initially it was, however, as time passed as humans got drawn to the puzzle of AI, a lot changed.', 'Human research went deeper and deeper and as a result, the machines evolved with it.', 'At present, AI & Machines is a growing field.', 'As it develops and improves, it has become a part of the industrial revolution.', 'In industries, most of the laborious work that was once taken care of by humans was now replaced by machines.', 'Naturally, with the evolution in machines, its precision, mass productivity, quality control, time efficiencies, and all the other factors made it a better choice.', 'A choice over humans.', 'This led to fear, a fear of a not-so-distant future, a future where maybe machines will be so evolved that they’ll take over the need of a human employee leading to unemployment.', 'With the population increase around the world, it became the new tech threat for the labor market.', 'Then again… how true is it?', 'Does AI really oppose a threat?', 'Will adapting to technology make millions of people lose their jobs?', 'Will it lead to mass unemployment?', 'Will the machines really surpass humans?', 'Will, the creation take over the creator?', 'No matter how fearful the future with AI may seem, in reality, it is not that scary.', 'Truth is AI is the present reality, it is the key that holds the power to unlock a whole next level of human evolution.', 'Technology is growing.', 'There was a time where technology was just an idea, but today that idea has been implemented, it’s working and is carried out.', 'Nobody could stop the advancement and growth of Artificial Intelligence, it’s a wave that is already flowing and we as the present generation and the generations to come to have to learn, to learn to swim in this flow and avoid drowning.', 'Many jobs will be replaced by machines, as AI evolves it’ll keep challenging human minds and their skills.', 'With the present COVID 19 situation, contactless cashiers to robots delivering packages have already taken over the usual routine tasks.', 'The jobs of Secretaries, Schedulers, and book-keeper are at risk too.', 'Manufacturing units, agriculture, food services, retail, transportation & logistic, and hospitality are all a part of the AI-affected automation.', 'At an estimation, it is said that around 20 million jobs, especially including manufacturing will be lost to robots.', 'As AI, robotics, 3D printing, and genetics make their way in, even the architects, medical docs, and music composers feel threatened by technology.', 'Making us question that will AI even edge us out of our brain jobs too?', 'Now that can be terrifying.', 'However, as much as machines will be replacing few jobs, they’ll also be creating new jobs.', 'With the economic growth, innovation, and investment around 133 million jobs are said to be generated.', 'These newly enhanced jobs are to create benefits and amplify one’s creativity, strategy, and entrepreneurial skills.', 'So what is the catch?', 'Well, it’s the skills.', 'Even though AI is creating 3 times more jobs than it is destroying, it’s the skills that count.', 'AI surged in new job opportunities, opportunities like Senior Data Scientist, Mobile Application Developer, and SEO specialist.', 'These jobs were once never heard of but now with AI it’s born, however, to do these jobs or for its qualification, one needs high-level skills and to acquire those skills can be an expensive and time-consuming task.', 'The future generation might be able to cope up with it but the real struggle is to be faced by the present two generations.', 'It’s the vulnerability between the skill gap and unemployment and the youths are the ones to be crushed the most.', 'Therefore, as the advancement of AI becomes inevitable there remains no choice but to adapt, learn, equip ourselves and grow with it.', 'The companies have to work together to build an AI-ready workplace.', 'They should collaborate with the government, educators, and non-profit organizations and work together to bring out policies that could help understand the technologies’ impacts faster while also providing the employees some security.', 'The economic and business planning should be made considerable for minimizing the impact on local jobs and properly maximizing the opportunities.', 'The employees should be provided with proper tools to carry along with the new opportunities while acquiring AI-based skills for their day-to-day work.', 'New skills should be identified and implemented for the upskilling and continual learning initiatives.', 'Employees will have to maximize their Robotic Quotient and learn core skills.', 'They’ll have to adapt to new working models and understand their roles in the coming future.', 'Howsoever, it’s not like AI will totally take over control, even though AI proves to be a better choice, it still has its limitations at present.', 'First, it’s expensive, secondly, manufacturing machines in bulk is not good for the environment.', 'Machines are also very high maintenance, therefore human labor will often come cheaper and so will be considered over machines.', 'Underdeveloped countries will find it hard to equip their people with the upskilling and reskilling required for AI workplace and so for AI to play a role in those countries, might take years.', 'AI can also be risky and unethical, as it’s hard to figure out who to be held responsible for in cases where an AI went wrong.', 'No matter, how advanced AI gets, there are some skills where humans will always have an upper hand i.e., soft skills.', 'Skills like teamwork, communication, creativity, and critical thinking are something that AI hasn’t been able to beat us up to yet and so the value of creativity, leadership, and emotional intelligence has increased.', 'Although, with machines coming in between humans causing the lack of human-to-human interaction, the humans seem to fade away a little.', 'With this era, comes the need for good leaders.', 'Leaders who are capable of handling both machines and humans together, the ones who are organized enough to manage the skilled and the unskilled employees while providing the unskilled trainees with proper training.', 'Leaders who hold profound soft skills and encourage teamwork while working along with machines.', 'The ones who are patient, calm, and optimized.', 'In conclusion, yes AI and machines are going to be very challenging but there’s nothing humans haven’t overcome.', 'Adaptation and up-gradation are going to be the primary factor for survival.', 'As we witness the onset of the 4th industrial revolution, let’s buckle up our seats and race along the highway with the essential fuels (skills) so as to not let ourselves eliminated.', 'After all, this is an unending race with infinity as the end, all we could do is try not to run out of fuel.', 'Try not to be outdated.']\n"
     ]
    }
   ],
   "source": [
    "from nltk.tokenize import sent_tokenize\n",
    "text=\"\"\"Human minds, a fascination in itself carrying the potential of tinkering nature with the pixie dust intelligence, creating and solving the mysteries and wonders with anything but admiration. However, no matter how captivating a human mind can be, it could sometimes be appalled. It could be the hunger or maybe the desire to want more, to go beyond and unravel the limitations, or maybe something like pure greed. Humans have never stopped and always keep evolving when it comes to intelligence and this is what makes them the supreme.\n",
    "\n",
    "Intelligence calls out for supremacy and so, what if there was to evolve something that opposed a challenge to the very human minds, to their capabilities while making them question their own importance among themselves? Artificial Intelligence came as a revolution, havoc when it first came to the light. The concept of making machines does work on their own, like granting machines –The Intelligence.\n",
    "\n",
    "The idea of making machines work like humans came back in the 19s. Back then people didn’t believe in such a thing as making a non-living thing work, think, and carry tasks on its own, not to mention, to actually surpass humans themselves in those skills. The facts are it did. By 1997. The greatest chess player, Garry Kasparov was defeated in a chess game by a machine and this is where exactly, a top skilled human lost to a mere machine created by another who by himself could’ve never defeated him. It was a rule of power, of betterment, of skills, and the granted supremacy. Were AI and Machines just tools? Equipment?  Something that helped an unskilled person with his mind and intelligence creates something that could do the skilled work for him with perfection and precision? Well initially it was, however, as time passed as humans got drawn to the puzzle of AI, a lot changed. Human research went deeper and deeper and as a result, the machines evolved with it.\n",
    "\n",
    "At present, AI & Machines is a growing field. As it develops and improves, it has become a part of the industrial revolution. In industries, most of the laborious work that was once taken care of by humans was now replaced by machines. Naturally, with the evolution in machines, its precision, mass productivity, quality control, time efficiencies, and all the other factors made it a better choice. A choice over humans.\n",
    "\n",
    "This led to fear, a fear of a not-so-distant future, a future where maybe machines will be so evolved that they’ll take over the need of a human employee leading to unemployment. With the population increase around the world, it became the new tech threat for the labor market. Then again… how true is it? Does AI really oppose a threat? Will adapting to technology make millions of people lose their jobs? Will it lead to mass unemployment? Will the machines really surpass humans? Will, the creation take over the creator?\n",
    "\n",
    "No matter how fearful the future with AI may seem, in reality, it is not that scary. Truth is AI is the present reality, it is the key that holds the power to unlock a whole next level of human evolution. Technology is growing. There was a time where technology was just an idea, but today that idea has been implemented, it’s working and is carried out. Nobody could stop the advancement and growth of Artificial Intelligence, it’s a wave that is already flowing and we as the present generation and the generations to come to have to learn, to learn to swim in this flow and avoid drowning.\n",
    "\n",
    "Many jobs will be replaced by machines, as AI evolves it’ll keep challenging human minds and their skills. With the present COVID 19 situation, contactless cashiers to robots delivering packages have already taken over the usual routine tasks. The jobs of Secretaries, Schedulers, and book-keeper are at risk too. Manufacturing units, agriculture, food services, retail, transportation & logistic, and hospitality are all a part of the AI-affected automation. At an estimation, it is said that around 20 million jobs, especially including manufacturing will be lost to robots. As AI, robotics, 3D printing, and genetics make their way in, even the architects, medical docs, and music composers feel threatened by technology. Making us question that will AI even edge us out of our brain jobs too? Now that can be terrifying.\n",
    "\n",
    "However, as much as machines will be replacing few jobs, they’ll also be creating new jobs.  With the economic growth, innovation, and investment around 133 million jobs are said to be generated. These newly enhanced jobs are to create benefits and amplify one’s creativity, strategy, and entrepreneurial skills. So what is the catch?\n",
    "\n",
    "Well, it’s the skills. Even though AI is creating 3 times more jobs than it is destroying, it’s the skills that count. AI surged in new job opportunities, opportunities like Senior Data Scientist, Mobile Application Developer, and SEO specialist. These jobs were once never heard of but now with AI it’s born, however, to do these jobs or for its qualification, one needs high-level skills and to acquire those skills can be an expensive and time-consuming task. The future generation might be able to cope up with it but the real struggle is to be faced by the present two generations. It’s the vulnerability between the skill gap and unemployment and the youths are the ones to be crushed the most.\n",
    "\n",
    "Therefore, as the advancement of AI becomes inevitable there remains no choice but to adapt, learn, equip ourselves and grow with it. The companies have to work together to build an AI-ready workplace. They should collaborate with the government, educators, and non-profit organizations and work together to bring out policies that could help understand the technologies’ impacts faster while also providing the employees some security. The economic and business planning should be made considerable for minimizing the impact on local jobs and properly maximizing the opportunities.\n",
    "\n",
    "The employees should be provided with proper tools to carry along with the new opportunities while acquiring AI-based skills for their day-to-day work. New skills should be identified and implemented for the upskilling and continual learning initiatives. Employees will have to maximize their Robotic Quotient and learn core skills. They’ll have to adapt to new working models and understand their roles in the coming future. \n",
    "\n",
    "Howsoever, it’s not like AI will totally take over control, even though AI proves to be a better choice, it still has its limitations at present. First, it’s expensive, secondly, manufacturing machines in bulk is not good for the environment. Machines are also very high maintenance, therefore human labor will often come cheaper and so will be considered over machines. Underdeveloped countries will find it hard to equip their people with the upskilling and reskilling required for AI workplace and so for AI to play a role in those countries, might take years. AI can also be risky and unethical, as it’s hard to figure out who to be held responsible for in cases where an AI went wrong.\n",
    "\n",
    "No matter, how advanced AI gets, there are some skills where humans will always have an upper hand i.e., soft skills. Skills like teamwork, communication, creativity, and critical thinking are something that AI hasn’t been able to beat us up to yet and so the value of creativity, leadership, and emotional intelligence has increased. Although, with machines coming in between humans causing the lack of human-to-human interaction, the humans seem to fade away a little.\n",
    "\n",
    "With this era, comes the need for good leaders. Leaders who are capable of handling both machines and humans together, the ones who are organized enough to manage the skilled and the unskilled employees while providing the unskilled trainees with proper training. Leaders who hold profound soft skills and encourage teamwork while working along with machines. The ones who are patient, calm, and optimized.  \n",
    "\n",
    "In conclusion, yes AI and machines are going to be very challenging but there’s nothing humans haven’t overcome. Adaptation and up-gradation are going to be the primary factor for survival. As we witness the onset of the 4th industrial revolution, let’s buckle up our seats and race along the highway with the essential fuels (skills) so as to not let ourselves eliminated. After all, this is an unending race with infinity as the end, all we could do is try not to run out of fuel. Try not to be outdated.\"\"\"\n",
    "tokenized_text=sent_tokenize(text)\n",
    "print(tokenized_text)\n"
   ]
  },
  {
   "cell_type": "code",
   "execution_count": 4,
   "id": "3ab321b8",
   "metadata": {},
   "outputs": [
    {
     "name": "stdout",
     "output_type": "stream",
     "text": [
      "total length of words present in text:  8416\n"
     ]
    }
   ],
   "source": [
    "total_word=len(text)\n",
    "print('total length of words present in text: ',total_word)"
   ]
  },
  {
   "cell_type": "code",
   "execution_count": 5,
   "id": "07c7b52e",
   "metadata": {},
   "outputs": [
    {
     "name": "stdout",
     "output_type": "stream",
     "text": [
      "The number of characters in each word 8416\n"
     ]
    }
   ],
   "source": [
    "count=0\n",
    "for word in text:\n",
    "    for char in word:\n",
    "        count=count+1\n",
    "print('The number of characters in each word',count)"
   ]
  },
  {
   "cell_type": "code",
   "execution_count": 6,
   "id": "0791bf64",
   "metadata": {},
   "outputs": [
    {
     "name": "stdout",
     "output_type": "stream",
     "text": [
      "['Human', 'minds', ',', 'a', 'fascination', 'in', 'itself', 'carrying', 'the', 'potential', 'of', 'tinkering', 'nature', 'with', 'the', 'pixie', 'dust', 'intelligence', ',', 'creating', 'and', 'solving', 'the', 'mysteries', 'and', 'wonders', 'with', 'anything', 'but', 'admiration', '.', 'However', ',', 'no', 'matter', 'how', 'captivating', 'a', 'human', 'mind', 'can', 'be', ',', 'it', 'could', 'sometimes', 'be', 'appalled', '.', 'It', 'could', 'be', 'the', 'hunger', 'or', 'maybe', 'the', 'desire', 'to', 'want', 'more', ',', 'to', 'go', 'beyond', 'and', 'unravel', 'the', 'limitations', ',', 'or', 'maybe', 'something', 'like', 'pure', 'greed', '.', 'Humans', 'have', 'never', 'stopped', 'and', 'always', 'keep', 'evolving', 'when', 'it', 'comes', 'to', 'intelligence', 'and', 'this', 'is', 'what', 'makes', 'them', 'the', 'supreme', '.', 'Intelligence', 'calls', 'out', 'for', 'supremacy', 'and', 'so', ',', 'what', 'if', 'there', 'was', 'to', 'evolve', 'something', 'that', 'opposed', 'a', 'challenge', 'to', 'the', 'very', 'human', 'minds', ',', 'to', 'their', 'capabilities', 'while', 'making', 'them', 'question', 'their', 'own', 'importance', 'among', 'themselves', '?', 'Artificial', 'Intelligence', 'came', 'as', 'a', 'revolution', ',', 'havoc', 'when', 'it', 'first', 'came', 'to', 'the', 'light', '.', 'The', 'concept', 'of', 'making', 'machines', 'does', 'work', 'on', 'their', 'own', ',', 'like', 'granting', 'machines', '–The', 'Intelligence', '.', 'The', 'idea', 'of', 'making', 'machines', 'work', 'like', 'humans', 'came', 'back', 'in', 'the', '19s', '.', 'Back', 'then', 'people', 'didn', '’', 't', 'believe', 'in', 'such', 'a', 'thing', 'as', 'making', 'a', 'non-living', 'thing', 'work', ',', 'think', ',', 'and', 'carry', 'tasks', 'on', 'its', 'own', ',', 'not', 'to', 'mention', ',', 'to', 'actually', 'surpass', 'humans', 'themselves', 'in', 'those', 'skills', '.', 'The', 'facts', 'are', 'it', 'did', '.', 'By', '1997', '.', 'The', 'greatest', 'chess', 'player', ',', 'Garry', 'Kasparov', 'was', 'defeated', 'in', 'a', 'chess', 'game', 'by', 'a', 'machine', 'and', 'this', 'is', 'where', 'exactly', ',', 'a', 'top', 'skilled', 'human', 'lost', 'to', 'a', 'mere', 'machine', 'created', 'by', 'another', 'who', 'by', 'himself', 'could', '’', 've', 'never', 'defeated', 'him', '.', 'It', 'was', 'a', 'rule', 'of', 'power', ',', 'of', 'betterment', ',', 'of', 'skills', ',', 'and', 'the', 'granted', 'supremacy', '.', 'Were', 'AI', 'and', 'Machines', 'just', 'tools', '?', 'Equipment', '?', 'Something', 'that', 'helped', 'an', 'unskilled', 'person', 'with', 'his', 'mind', 'and', 'intelligence', 'creates', 'something', 'that', 'could', 'do', 'the', 'skilled', 'work', 'for', 'him', 'with', 'perfection', 'and', 'precision', '?', 'Well', 'initially', 'it', 'was', ',', 'however', ',', 'as', 'time', 'passed', 'as', 'humans', 'got', 'drawn', 'to', 'the', 'puzzle', 'of', 'AI', ',', 'a', 'lot', 'changed', '.', 'Human', 'research', 'went', 'deeper', 'and', 'deeper', 'and', 'as', 'a', 'result', ',', 'the', 'machines', 'evolved', 'with', 'it', '.', 'At', 'present', ',', 'AI', '&', 'Machines', 'is', 'a', 'growing', 'field', '.', 'As', 'it', 'develops', 'and', 'improves', ',', 'it', 'has', 'become', 'a', 'part', 'of', 'the', 'industrial', 'revolution', '.', 'In', 'industries', ',', 'most', 'of', 'the', 'laborious', 'work', 'that', 'was', 'once', 'taken', 'care', 'of', 'by', 'humans', 'was', 'now', 'replaced', 'by', 'machines', '.', 'Naturally', ',', 'with', 'the', 'evolution', 'in', 'machines', ',', 'its', 'precision', ',', 'mass', 'productivity', ',', 'quality', 'control', ',', 'time', 'efficiencies', ',', 'and', 'all', 'the', 'other', 'factors', 'made', 'it', 'a', 'better', 'choice', '.', 'A', 'choice', 'over', 'humans', '.', 'This', 'led', 'to', 'fear', ',', 'a', 'fear', 'of', 'a', 'not-so-distant', 'future', ',', 'a', 'future', 'where', 'maybe', 'machines', 'will', 'be', 'so', 'evolved', 'that', 'they', '’', 'll', 'take', 'over', 'the', 'need', 'of', 'a', 'human', 'employee', 'leading', 'to', 'unemployment', '.', 'With', 'the', 'population', 'increase', 'around', 'the', 'world', ',', 'it', 'became', 'the', 'new', 'tech', 'threat', 'for', 'the', 'labor', 'market', '.', 'Then', 'again…', 'how', 'true', 'is', 'it', '?', 'Does', 'AI', 'really', 'oppose', 'a', 'threat', '?', 'Will', 'adapting', 'to', 'technology', 'make', 'millions', 'of', 'people', 'lose', 'their', 'jobs', '?', 'Will', 'it', 'lead', 'to', 'mass', 'unemployment', '?', 'Will', 'the', 'machines', 'really', 'surpass', 'humans', '?', 'Will', ',', 'the', 'creation', 'take', 'over', 'the', 'creator', '?', 'No', 'matter', 'how', 'fearful', 'the', 'future', 'with', 'AI', 'may', 'seem', ',', 'in', 'reality', ',', 'it', 'is', 'not', 'that', 'scary', '.', 'Truth', 'is', 'AI', 'is', 'the', 'present', 'reality', ',', 'it', 'is', 'the', 'key', 'that', 'holds', 'the', 'power', 'to', 'unlock', 'a', 'whole', 'next', 'level', 'of', 'human', 'evolution', '.', 'Technology', 'is', 'growing', '.', 'There', 'was', 'a', 'time', 'where', 'technology', 'was', 'just', 'an', 'idea', ',', 'but', 'today', 'that', 'idea', 'has', 'been', 'implemented', ',', 'it', '’', 's', 'working', 'and', 'is', 'carried', 'out', '.', 'Nobody', 'could', 'stop', 'the', 'advancement', 'and', 'growth', 'of', 'Artificial', 'Intelligence', ',', 'it', '’', 's', 'a', 'wave', 'that', 'is', 'already', 'flowing', 'and', 'we', 'as', 'the', 'present', 'generation', 'and', 'the', 'generations', 'to', 'come', 'to', 'have', 'to', 'learn', ',', 'to', 'learn', 'to', 'swim', 'in', 'this', 'flow', 'and', 'avoid', 'drowning', '.', 'Many', 'jobs', 'will', 'be', 'replaced', 'by', 'machines', ',', 'as', 'AI', 'evolves', 'it', '’', 'll', 'keep', 'challenging', 'human', 'minds', 'and', 'their', 'skills', '.', 'With', 'the', 'present', 'COVID', '19', 'situation', ',', 'contactless', 'cashiers', 'to', 'robots', 'delivering', 'packages', 'have', 'already', 'taken', 'over', 'the', 'usual', 'routine', 'tasks', '.', 'The', 'jobs', 'of', 'Secretaries', ',', 'Schedulers', ',', 'and', 'book-keeper', 'are', 'at', 'risk', 'too', '.', 'Manufacturing', 'units', ',', 'agriculture', ',', 'food', 'services', ',', 'retail', ',', 'transportation', '&', 'logistic', ',', 'and', 'hospitality', 'are', 'all', 'a', 'part', 'of', 'the', 'AI-affected', 'automation', '.', 'At', 'an', 'estimation', ',', 'it', 'is', 'said', 'that', 'around', '20', 'million', 'jobs', ',', 'especially', 'including', 'manufacturing', 'will', 'be', 'lost', 'to', 'robots', '.', 'As', 'AI', ',', 'robotics', ',', '3D', 'printing', ',', 'and', 'genetics', 'make', 'their', 'way', 'in', ',', 'even', 'the', 'architects', ',', 'medical', 'docs', ',', 'and', 'music', 'composers', 'feel', 'threatened', 'by', 'technology', '.', 'Making', 'us', 'question', 'that', 'will', 'AI', 'even', 'edge', 'us', 'out', 'of', 'our', 'brain', 'jobs', 'too', '?', 'Now', 'that', 'can', 'be', 'terrifying', '.', 'However', ',', 'as', 'much', 'as', 'machines', 'will', 'be', 'replacing', 'few', 'jobs', ',', 'they', '’', 'll', 'also', 'be', 'creating', 'new', 'jobs', '.', 'With', 'the', 'economic', 'growth', ',', 'innovation', ',', 'and', 'investment', 'around', '133', 'million', 'jobs', 'are', 'said', 'to', 'be', 'generated', '.', 'These', 'newly', 'enhanced', 'jobs', 'are', 'to', 'create', 'benefits', 'and', 'amplify', 'one', '’', 's', 'creativity', ',', 'strategy', ',', 'and', 'entrepreneurial', 'skills', '.', 'So', 'what', 'is', 'the', 'catch', '?', 'Well', ',', 'it', '’', 's', 'the', 'skills', '.', 'Even', 'though', 'AI', 'is', 'creating', '3', 'times', 'more', 'jobs', 'than', 'it', 'is', 'destroying', ',', 'it', '’', 's', 'the', 'skills', 'that', 'count', '.', 'AI', 'surged', 'in', 'new', 'job', 'opportunities', ',', 'opportunities', 'like', 'Senior', 'Data', 'Scientist', ',', 'Mobile', 'Application', 'Developer', ',', 'and', 'SEO', 'specialist', '.', 'These', 'jobs', 'were', 'once', 'never', 'heard', 'of', 'but', 'now', 'with', 'AI', 'it', '’', 's', 'born', ',', 'however', ',', 'to', 'do', 'these', 'jobs', 'or', 'for', 'its', 'qualification', ',', 'one', 'needs', 'high-level', 'skills', 'and', 'to', 'acquire', 'those', 'skills', 'can', 'be', 'an', 'expensive', 'and', 'time-consuming', 'task', '.', 'The', 'future', 'generation', 'might', 'be', 'able', 'to', 'cope', 'up', 'with', 'it', 'but', 'the', 'real', 'struggle', 'is', 'to', 'be', 'faced', 'by', 'the', 'present', 'two', 'generations', '.', 'It', '’', 's', 'the', 'vulnerability', 'between', 'the', 'skill', 'gap', 'and', 'unemployment', 'and', 'the', 'youths', 'are', 'the', 'ones', 'to', 'be', 'crushed', 'the', 'most', '.', 'Therefore', ',', 'as', 'the', 'advancement', 'of', 'AI', 'becomes', 'inevitable', 'there', 'remains', 'no', 'choice', 'but', 'to', 'adapt', ',', 'learn', ',', 'equip', 'ourselves', 'and', 'grow', 'with', 'it', '.', 'The', 'companies', 'have', 'to', 'work', 'together', 'to', 'build', 'an', 'AI-ready', 'workplace', '.', 'They', 'should', 'collaborate', 'with', 'the', 'government', ',', 'educators', ',', 'and', 'non-profit', 'organizations', 'and', 'work', 'together', 'to', 'bring', 'out', 'policies', 'that', 'could', 'help', 'understand', 'the', 'technologies', '’', 'impacts', 'faster', 'while', 'also', 'providing', 'the', 'employees', 'some', 'security', '.', 'The', 'economic', 'and', 'business', 'planning', 'should', 'be', 'made', 'considerable', 'for', 'minimizing', 'the', 'impact', 'on', 'local', 'jobs', 'and', 'properly', 'maximizing', 'the', 'opportunities', '.', 'The', 'employees', 'should', 'be', 'provided', 'with', 'proper', 'tools', 'to', 'carry', 'along', 'with', 'the', 'new', 'opportunities', 'while', 'acquiring', 'AI-based', 'skills', 'for', 'their', 'day-to-day', 'work', '.', 'New', 'skills', 'should', 'be', 'identified', 'and', 'implemented', 'for', 'the', 'upskilling', 'and', 'continual', 'learning', 'initiatives', '.', 'Employees', 'will', 'have', 'to', 'maximize', 'their', 'Robotic', 'Quotient', 'and', 'learn', 'core', 'skills', '.', 'They', '’', 'll', 'have', 'to', 'adapt', 'to', 'new', 'working', 'models', 'and', 'understand', 'their', 'roles', 'in', 'the', 'coming', 'future', '.', 'Howsoever', ',', 'it', '’', 's', 'not', 'like', 'AI', 'will', 'totally', 'take', 'over', 'control', ',', 'even', 'though', 'AI', 'proves', 'to', 'be', 'a', 'better', 'choice', ',', 'it', 'still', 'has', 'its', 'limitations', 'at', 'present', '.', 'First', ',', 'it', '’', 's', 'expensive', ',', 'secondly', ',', 'manufacturing', 'machines', 'in', 'bulk', 'is', 'not', 'good', 'for', 'the', 'environment', '.', 'Machines', 'are', 'also', 'very', 'high', 'maintenance', ',', 'therefore', 'human', 'labor', 'will', 'often', 'come', 'cheaper', 'and', 'so', 'will', 'be', 'considered', 'over', 'machines', '.', 'Underdeveloped', 'countries', 'will', 'find', 'it', 'hard', 'to', 'equip', 'their', 'people', 'with', 'the', 'upskilling', 'and', 'reskilling', 'required', 'for', 'AI', 'workplace', 'and', 'so', 'for', 'AI', 'to', 'play', 'a', 'role', 'in', 'those', 'countries', ',', 'might', 'take', 'years', '.', 'AI', 'can', 'also', 'be', 'risky', 'and', 'unethical', ',', 'as', 'it', '’', 's', 'hard', 'to', 'figure', 'out', 'who', 'to', 'be', 'held', 'responsible', 'for', 'in', 'cases', 'where', 'an', 'AI', 'went', 'wrong', '.', 'No', 'matter', ',', 'how', 'advanced', 'AI', 'gets', ',', 'there', 'are', 'some', 'skills', 'where', 'humans', 'will', 'always', 'have', 'an', 'upper', 'hand', 'i.e.', ',', 'soft', 'skills', '.', 'Skills', 'like', 'teamwork', ',', 'communication', ',', 'creativity', ',', 'and', 'critical', 'thinking', 'are', 'something', 'that', 'AI', 'hasn', '’', 't', 'been', 'able', 'to', 'beat', 'us', 'up', 'to', 'yet', 'and', 'so', 'the', 'value', 'of', 'creativity', ',', 'leadership', ',', 'and', 'emotional', 'intelligence', 'has', 'increased', '.', 'Although', ',', 'with', 'machines', 'coming', 'in', 'between', 'humans', 'causing', 'the', 'lack', 'of', 'human-to-human', 'interaction', ',', 'the', 'humans', 'seem', 'to', 'fade', 'away', 'a', 'little', '.', 'With', 'this', 'era', ',', 'comes', 'the', 'need', 'for', 'good', 'leaders', '.', 'Leaders', 'who', 'are', 'capable', 'of', 'handling', 'both', 'machines', 'and', 'humans', 'together', ',', 'the', 'ones', 'who', 'are', 'organized', 'enough', 'to', 'manage', 'the', 'skilled', 'and', 'the', 'unskilled', 'employees', 'while', 'providing', 'the', 'unskilled', 'trainees', 'with', 'proper', 'training', '.', 'Leaders', 'who', 'hold', 'profound', 'soft', 'skills', 'and', 'encourage', 'teamwork', 'while', 'working', 'along', 'with', 'machines', '.', 'The', 'ones', 'who', 'are', 'patient', ',', 'calm', ',', 'and', 'optimized', '.', 'In', 'conclusion', ',', 'yes', 'AI', 'and', 'machines', 'are', 'going', 'to', 'be', 'very', 'challenging', 'but', 'there', '’', 's', 'nothing', 'humans', 'haven', '’', 't', 'overcome', '.', 'Adaptation', 'and', 'up-gradation', 'are', 'going', 'to', 'be', 'the', 'primary', 'factor', 'for', 'survival', '.', 'As', 'we', 'witness', 'the', 'onset', 'of', 'the', '4th', 'industrial', 'revolution', ',', 'let', '’', 's', 'buckle', 'up', 'our', 'seats', 'and', 'race', 'along', 'the', 'highway', 'with', 'the', 'essential', 'fuels', '(', 'skills', ')', 'so', 'as', 'to', 'not', 'let', 'ourselves', 'eliminated', '.', 'After', 'all', ',', 'this', 'is', 'an', 'unending', 'race', 'with', 'infinity', 'as', 'the', 'end', ',', 'all', 'we', 'could', 'do', 'is', 'try', 'not', 'to', 'run', 'out', 'of', 'fuel', '.', 'Try', 'not', 'to', 'be', 'outdated', '.']"
     ]
    },
    {
     "name": "stdout",
     "output_type": "stream",
     "text": [
      "\n"
     ]
    }
   ],
   "source": [
    "from nltk.tokenize import word_tokenize\n",
    "tokenized_word=word_tokenize(text)\n",
    "print(tokenized_word)\n"
   ]
  },
  {
   "cell_type": "code",
   "execution_count": 7,
   "id": "c27dd7b5",
   "metadata": {},
   "outputs": [
    {
     "name": "stdout",
     "output_type": "stream",
     "text": [
      "total length of words present in sentences 1629\n"
     ]
    }
   ],
   "source": [
    "total_sent=len(tokenized_word)\n",
    "print('total length of words present in sentences',total_sent)"
   ]
  },
  {
   "cell_type": "markdown",
   "id": "8eadd3a4",
   "metadata": {},
   "source": [
    "### FreqDist function \n",
    "- gives the user the frequency distribution of all the words in the text. "
   ]
  },
  {
   "cell_type": "code",
   "execution_count": 8,
   "id": "3a788bee",
   "metadata": {},
   "outputs": [
    {
     "name": "stdout",
     "output_type": "stream",
     "text": [
      "<FreqDist with 595 samples and 1629 outcomes>\n"
     ]
    }
   ],
   "source": [
    "from nltk.probability import FreqDist\n",
    "fdist = FreqDist(tokenized_word)\n",
    "print(fdist)\n"
   ]
  },
  {
   "cell_type": "code",
   "execution_count": 9,
   "id": "ebcfbb78",
   "metadata": {},
   "outputs": [
    {
     "data": {
      "text/plain": [
       "[(',', 106), ('the', 73)]"
      ]
     },
     "execution_count": 9,
     "metadata": {},
     "output_type": "execute_result"
    }
   ],
   "source": [
    "fdist.most_common(2)\n"
   ]
  },
  {
   "cell_type": "code",
   "execution_count": 10,
   "id": "16763cd2",
   "metadata": {},
   "outputs": [
    {
     "data": {
      "image/png": "[encoded data removed]",
      "text/plain": [
       "<Figure size 432x288 with 1 Axes>"
      ]
     },
     "metadata": {
      "needs_background": "light"
     },
     "output_type": "display_data"
    }
   ],
   "source": [
    "# Frequency Distribution Plot\n",
    "import matplotlib.pyplot as plt\n",
    "fdist.plot(30,cumulative=False)\n",
    "plt.show()\n"
   ]
  },
  {
   "cell_type": "markdown",
   "id": "e1697ac0",
   "metadata": {},
   "source": [
    "### Stop Words \n",
    " - used to eliminate unimportant words, allowing applications to focus on the important words instead."
   ]
  },
  {
   "cell_type": "code",
   "execution_count": 11,
   "id": "20de50a6",
   "metadata": {},
   "outputs": [
    {
     "name": "stdout",
     "output_type": "stream",
     "text": [
      "{'each', 'other', 'hasn', 'be', 'won', 'hadn', 'shouldn', 'of', 'i', 'the', 'itself', 'being', \"didn't\", 'me', 'very', 'she', 'until', 'before', 'had', \"won't\", 'between', 'her', 'what', 'm', 'any', 'ours', 'needn', \"should've\", 'as', 'he', 'after', 'down', 'few', 'and', 'then', 'their', 'but', 'again', 'from', 'most', 'below', 're', 'was', 'did', 'wouldn', 'that', 'does', 'we', \"it's\", 'up', \"shouldn't\", 'they', 'if', 'him', 'theirs', 'while', 'your', \"isn't\", 'themselves', 'didn', 'his', 'ourselves', 'a', 'yourselves', 'here', 'shan', 'can', 'such', \"don't\", \"wasn't\", 'should', 'haven', 'same', 'mustn', 'because', 'on', \"couldn't\", 'just', 'wasn', 'nor', 'our', \"doesn't\", 'don', 'those', 'its', 'than', \"you'll\", 'll', 'under', 'or', 'in', 'weren', 'at', 'yours', 'through', 'are', 'once', 'why', 'only', 'has', 'when', 'am', 'an', 'during', 'doing', 'couldn', \"aren't\", 'will', 'been', 'o', 'above', 'y', 'these', 'by', 'doesn', 'have', 'ain', \"hadn't\", 'my', 'not', 've', 'some', 'herself', 'myself', 'you', 'were', 'ma', 'further', 'where', 'how', 't', \"wouldn't\", \"mightn't\", 'whom', \"you've\", 's', \"haven't\", 'having', 'this', 'which', 'over', \"you're\", 'out', \"you'd\", \"hasn't\", 'with', 'against', 'who', 'to', 'd', 'no', 'for', 'hers', 'own', 'there', 'more', 'them', \"mustn't\", 'do', 'too', 'is', \"weren't\", 'off', 'both', 'now', 'mightn', \"that'll\", 'about', 'isn', \"she's\", 'aren', \"needn't\", 'so', 'yourself', 'all', \"shan't\", 'himself', 'into', 'it'}\n"
     ]
    }
   ],
   "source": [
    "from nltk.corpus import stopwords\n",
    "stop_words=set(stopwords.words(\"english\"))\n",
    "print(stop_words)\n"
   ]
  },
  {
   "cell_type": "code",
   "execution_count": 12,
   "id": "e80c8f9c",
   "metadata": {},
   "outputs": [
    {
     "name": "stdout",
     "output_type": "stream",
     "text": [
      "Tokenized Sentence: []\n",
      "Filterd Sentence: [',', '.', 'AI', '’', 'machines', 'skills', 'jobs', '?', 'humans', 'The', 'work', 'human', 'could', 'like', 'present', 'future', 'new', 'intelligence', 'something', 'Intelligence', 'making', 'choice', 'take', 'With', 'Will', 'learn', 'also', 'opportunities', 'minds', 'creating', 'matter', 'It', 'maybe', 'never', 'came', 'revolution', 'idea', 'people', 'skilled', 'Machines', 'unskilled', 'time', 'As', 'unemployment', 'around', 'technology', 'working', 'even', 'us', 'creativity', 'ones', 'together', 'employees', 'along', 'Human', 'However', 'mind', 'limitations', 'always', 'keep', 'comes', 'supremacy', 'question', 'Artificial', 'thing', 'carry', 'tasks', 'surpass', 'chess', 'defeated', 'machine', 'lost', 'power', 'tools', 'precision', 'Well', 'however', 'went', 'deeper', 'evolved', 'At', '&', 'growing', 'part', 'industrial', 'In', 'taken', 'replaced', 'evolution', 'mass', 'control', 'made', 'better', 'fear', 'need', 'threat', 'labor', 'really', 'make', 'No', 'seem', 'reality', 'implemented', 'advancement', 'growth', 'already', 'generation', 'generations', 'come', 'challenging', 'robots', 'said', 'million', 'manufacturing', 'economic', 'These', 'one', 'though', 'expensive', 'might', 'able', 'adapt', 'equip', 'workplace', 'They', 'understand', 'providing', 'proper', 'upskilling', 'coming', 'good', 'countries', 'hard', 'soft', 'teamwork', 'Leaders', 'going', 'let', 'race', 'fascination', 'carrying', 'potential', 'tinkering', 'nature', 'pixie', 'dust', 'solving', 'mysteries', 'wonders', 'anything', 'admiration', 'captivating', 'sometimes', 'appalled', 'hunger', 'desire', 'want', 'go', 'beyond', 'unravel', 'pure', 'greed', 'Humans', 'stopped', 'evolving', 'makes', 'supreme', 'calls', 'evolve', 'opposed', 'challenge', 'capabilities', 'importance', 'among', 'havoc', 'first', 'light', 'concept', 'granting', '–The', 'back', '19s', 'Back', 'believe', 'non-living', 'think', 'mention', 'actually', 'facts', 'By', '1997', 'greatest', 'player', 'Garry', 'Kasparov', 'game', 'exactly', 'top', 'mere', 'created', 'another', 'rule', 'betterment', 'granted', 'Were', 'Equipment', 'Something', 'helped', 'person', 'creates', 'perfection', 'initially', 'passed', 'got', 'drawn', 'puzzle', 'lot', 'changed', 'research', 'result', 'field', 'develops', 'improves', 'become', 'industries', 'laborious', 'care', 'Naturally', 'productivity', 'quality', 'efficiencies', 'factors', 'A', 'This', 'led', 'not-so-distant', 'employee', 'leading', 'population', 'increase', 'world', 'became', 'tech', 'market', 'Then', 'again…', 'true', 'Does', 'oppose', 'adapting', 'millions', 'lose', 'lead', 'creation', 'creator', 'fearful', 'may', 'scary', 'Truth', 'key', 'holds', 'unlock', 'whole', 'next', 'level', 'Technology', 'There', 'today', 'carried', 'Nobody', 'stop', 'wave', 'flowing', 'swim', 'flow', 'avoid', 'drowning', 'Many', 'evolves', 'COVID', '19', 'situation', 'contactless', 'cashiers', 'delivering', 'packages', 'usual', 'routine', 'Secretaries', 'Schedulers', 'book-keeper', 'risk', 'Manufacturing', 'units', 'agriculture', 'food', 'services', 'retail', 'transportation', 'logistic', 'hospitality', 'AI-affected', 'automation', 'estimation', '20', 'especially', 'including', 'robotics', '3D', 'printing', 'genetics', 'way', 'architects', 'medical', 'docs', 'music', 'composers', 'feel', 'threatened', 'Making', 'edge', 'brain', 'Now', 'terrifying', 'much', 'replacing', 'innovation', 'investment', '133', 'generated', 'newly', 'enhanced', 'create', 'benefits', 'amplify', 'strategy', 'entrepreneurial', 'So', 'catch', 'Even', '3', 'times', 'destroying', 'count', 'surged', 'job', 'Senior', 'Data', 'Scientist', 'Mobile', 'Application', 'Developer', 'SEO', 'specialist', 'heard', 'born', 'qualification', 'needs', 'high-level', 'acquire', 'time-consuming', 'task', 'cope', 'real', 'struggle', 'faced', 'two', 'vulnerability', 'skill', 'gap', 'youths', 'crushed', 'Therefore', 'becomes', 'inevitable', 'remains', 'grow', 'companies', 'build', 'AI-ready', 'collaborate', 'government', 'educators', 'non-profit', 'organizations', 'bring', 'policies', 'help', 'technologies', 'impacts', 'faster', 'security', 'business', 'planning', 'considerable', 'minimizing', 'impact', 'local', 'properly', 'maximizing', 'provided', 'acquiring', 'AI-based', 'day-to-day', 'New', 'identified', 'continual', 'learning', 'initiatives', 'Employees', 'maximize', 'Robotic', 'Quotient', 'core', 'models', 'roles', 'Howsoever', 'totally', 'proves', 'still', 'First', 'secondly', 'bulk', 'environment', 'high', 'maintenance', 'therefore', 'often', 'cheaper', 'considered', 'Underdeveloped', 'find', 'reskilling', 'required', 'play', 'role', 'years', 'risky', 'unethical', 'figure', 'held', 'responsible', 'cases', 'wrong', 'advanced', 'gets', 'upper', 'hand', 'i.e.', 'Skills', 'communication', 'critical', 'thinking', 'beat', 'yet', 'value', 'leadership', 'emotional', 'increased', 'Although', 'causing', 'lack', 'human-to-human', 'interaction', 'fade', 'away', 'little', 'era', 'leaders', 'capable', 'handling', 'organized', 'enough', 'manage', 'trainees', 'training', 'hold', 'profound', 'encourage', 'patient', 'calm', 'optimized', 'conclusion', 'yes', 'nothing', 'overcome', 'Adaptation', 'up-gradation', 'primary', 'factor', 'survival', 'witness', 'onset', '4th', 'buckle', 'seats', 'highway', 'essential', 'fuels', '(', ')', 'eliminated', 'After', 'unending', 'infinity', 'end', 'try', 'run', 'fuel', 'Try', 'outdated']\n"
     ]
    }
   ],
   "source": [
    "tokenized_sent=[]\n",
    "filtered_sent=[]\n",
    "for w in fdist:\n",
    "    if w not in stop_words:\n",
    "        filtered_sent.append(w)\n",
    "print(\"Tokenized Sentence:\",tokenized_sent)\n",
    "print(\"Filterd Sentence:\",filtered_sent)\n"
   ]
  },
  {
   "cell_type": "markdown",
   "id": "2d11fe5b",
   "metadata": {},
   "source": [
    "### Stemming \n",
    " - is the process of reducing a word to its word stem that affixes to suffixes and prefixes or to the roots of words known as a lemma."
   ]
  },
  {
   "cell_type": "code",
   "execution_count": 13,
   "id": "d43d396a",
   "metadata": {
    "scrolled": true
   },
   "outputs": [
    {
     "name": "stdout",
     "output_type": "stream",
     "text": [
      "Filtered Sentence: [',', '.', 'AI', '’', 'machines', 'skills', 'jobs', '?', 'humans', 'The', 'work', 'human', 'could', 'like', 'present', 'future', 'new', 'intelligence', 'something', 'Intelligence', 'making', 'choice', 'take', 'With', 'Will', 'learn', 'also', 'opportunities', 'minds', 'creating', 'matter', 'It', 'maybe', 'never', 'came', 'revolution', 'idea', 'people', 'skilled', 'Machines', 'unskilled', 'time', 'As', 'unemployment', 'around', 'technology', 'working', 'even', 'us', 'creativity', 'ones', 'together', 'employees', 'along', 'Human', 'However', 'mind', 'limitations', 'always', 'keep', 'comes', 'supremacy', 'question', 'Artificial', 'thing', 'carry', 'tasks', 'surpass', 'chess', 'defeated', 'machine', 'lost', 'power', 'tools', 'precision', 'Well', 'however', 'went', 'deeper', 'evolved', 'At', '&', 'growing', 'part', 'industrial', 'In', 'taken', 'replaced', 'evolution', 'mass', 'control', 'made', 'better', 'fear', 'need', 'threat', 'labor', 'really', 'make', 'No', 'seem', 'reality', 'implemented', 'advancement', 'growth', 'already', 'generation', 'generations', 'come', 'challenging', 'robots', 'said', 'million', 'manufacturing', 'economic', 'These', 'one', 'though', 'expensive', 'might', 'able', 'adapt', 'equip', 'workplace', 'They', 'understand', 'providing', 'proper', 'upskilling', 'coming', 'good', 'countries', 'hard', 'soft', 'teamwork', 'Leaders', 'going', 'let', 'race', 'fascination', 'carrying', 'potential', 'tinkering', 'nature', 'pixie', 'dust', 'solving', 'mysteries', 'wonders', 'anything', 'admiration', 'captivating', 'sometimes', 'appalled', 'hunger', 'desire', 'want', 'go', 'beyond', 'unravel', 'pure', 'greed', 'Humans', 'stopped', 'evolving', 'makes', 'supreme', 'calls', 'evolve', 'opposed', 'challenge', 'capabilities', 'importance', 'among', 'havoc', 'first', 'light', 'concept', 'granting', '–The', 'back', '19s', 'Back', 'believe', 'non-living', 'think', 'mention', 'actually', 'facts', 'By', '1997', 'greatest', 'player', 'Garry', 'Kasparov', 'game', 'exactly', 'top', 'mere', 'created', 'another', 'rule', 'betterment', 'granted', 'Were', 'Equipment', 'Something', 'helped', 'person', 'creates', 'perfection', 'initially', 'passed', 'got', 'drawn', 'puzzle', 'lot', 'changed', 'research', 'result', 'field', 'develops', 'improves', 'become', 'industries', 'laborious', 'care', 'Naturally', 'productivity', 'quality', 'efficiencies', 'factors', 'A', 'This', 'led', 'not-so-distant', 'employee', 'leading', 'population', 'increase', 'world', 'became', 'tech', 'market', 'Then', 'again…', 'true', 'Does', 'oppose', 'adapting', 'millions', 'lose', 'lead', 'creation', 'creator', 'fearful', 'may', 'scary', 'Truth', 'key', 'holds', 'unlock', 'whole', 'next', 'level', 'Technology', 'There', 'today', 'carried', 'Nobody', 'stop', 'wave', 'flowing', 'swim', 'flow', 'avoid', 'drowning', 'Many', 'evolves', 'COVID', '19', 'situation', 'contactless', 'cashiers', 'delivering', 'packages', 'usual', 'routine', 'Secretaries', 'Schedulers', 'book-keeper', 'risk', 'Manufacturing', 'units', 'agriculture', 'food', 'services', 'retail', 'transportation', 'logistic', 'hospitality', 'AI-affected', 'automation', 'estimation', '20', 'especially', 'including', 'robotics', '3D', 'printing', 'genetics', 'way', 'architects', 'medical', 'docs', 'music', 'composers', 'feel', 'threatened', 'Making', 'edge', 'brain', 'Now', 'terrifying', 'much', 'replacing', 'innovation', 'investment', '133', 'generated', 'newly', 'enhanced', 'create', 'benefits', 'amplify', 'strategy', 'entrepreneurial', 'So', 'catch', 'Even', '3', 'times', 'destroying', 'count', 'surged', 'job', 'Senior', 'Data', 'Scientist', 'Mobile', 'Application', 'Developer', 'SEO', 'specialist', 'heard', 'born', 'qualification', 'needs', 'high-level', 'acquire', 'time-consuming', 'task', 'cope', 'real', 'struggle', 'faced', 'two', 'vulnerability', 'skill', 'gap', 'youths', 'crushed', 'Therefore', 'becomes', 'inevitable', 'remains', 'grow', 'companies', 'build', 'AI-ready', 'collaborate', 'government', 'educators', 'non-profit', 'organizations', 'bring', 'policies', 'help', 'technologies', 'impacts', 'faster', 'security', 'business', 'planning', 'considerable', 'minimizing', 'impact', 'local', 'properly', 'maximizing', 'provided', 'acquiring', 'AI-based', 'day-to-day', 'New', 'identified', 'continual', 'learning', 'initiatives', 'Employees', 'maximize', 'Robotic', 'Quotient', 'core', 'models', 'roles', 'Howsoever', 'totally', 'proves', 'still', 'First', 'secondly', 'bulk', 'environment', 'high', 'maintenance', 'therefore', 'often', 'cheaper', 'considered', 'Underdeveloped', 'find', 'reskilling', 'required', 'play', 'role', 'years', 'risky', 'unethical', 'figure', 'held', 'responsible', 'cases', 'wrong', 'advanced', 'gets', 'upper', 'hand', 'i.e.', 'Skills', 'communication', 'critical', 'thinking', 'beat', 'yet', 'value', 'leadership', 'emotional', 'increased', 'Although', 'causing', 'lack', 'human-to-human', 'interaction', 'fade', 'away', 'little', 'era', 'leaders', 'capable', 'handling', 'organized', 'enough', 'manage', 'trainees', 'training', 'hold', 'profound', 'encourage', 'patient', 'calm', 'optimized', 'conclusion', 'yes', 'nothing', 'overcome', 'Adaptation', 'up-gradation', 'primary', 'factor', 'survival', 'witness', 'onset', '4th', 'buckle', 'seats', 'highway', 'essential', 'fuels', '(', ')', 'eliminated', 'After', 'unending', 'infinity', 'end', 'try', 'run', 'fuel', 'Try', 'outdated']\n",
      "Stemmed Sentence: [',', '.', 'ai', '’', 'machin', 'skill', 'job', '?', 'human', 'the', 'work', 'human', 'could', 'like', 'present', 'futur', 'new', 'intellig', 'someth', 'intellig', 'make', 'choic', 'take', 'with', 'will', 'learn', 'also', 'opportun', 'mind', 'creat', 'matter', 'it', 'mayb', 'never', 'came', 'revolut', 'idea', 'peopl', 'skill', 'machin', 'unskil', 'time', 'as', 'unemploy', 'around', 'technolog', 'work', 'even', 'us', 'creativ', 'one', 'togeth', 'employe', 'along', 'human', 'howev', 'mind', 'limit', 'alway', 'keep', 'come', 'supremaci', 'question', 'artifici', 'thing', 'carri', 'task', 'surpass', 'chess', 'defeat', 'machin', 'lost', 'power', 'tool', 'precis', 'well', 'howev', 'went', 'deeper', 'evolv', 'at', '&', 'grow', 'part', 'industri', 'in', 'taken', 'replac', 'evolut', 'mass', 'control', 'made', 'better', 'fear', 'need', 'threat', 'labor', 'realli', 'make', 'no', 'seem', 'realiti', 'implement', 'advanc', 'growth', 'alreadi', 'gener', 'gener', 'come', 'challeng', 'robot', 'said', 'million', 'manufactur', 'econom', 'these', 'one', 'though', 'expens', 'might', 'abl', 'adapt', 'equip', 'workplac', 'they', 'understand', 'provid', 'proper', 'upskil', 'come', 'good', 'countri', 'hard', 'soft', 'teamwork', 'leader', 'go', 'let', 'race', 'fascin', 'carri', 'potenti', 'tinker', 'natur', 'pixi', 'dust', 'solv', 'mysteri', 'wonder', 'anyth', 'admir', 'captiv', 'sometim', 'appal', 'hunger', 'desir', 'want', 'go', 'beyond', 'unravel', 'pure', 'greed', 'human', 'stop', 'evolv', 'make', 'suprem', 'call', 'evolv', 'oppos', 'challeng', 'capabl', 'import', 'among', 'havoc', 'first', 'light', 'concept', 'grant', '–the', 'back', '19', 'back', 'believ', 'non-liv', 'think', 'mention', 'actual', 'fact', 'by', '1997', 'greatest', 'player', 'garri', 'kasparov', 'game', 'exactli', 'top', 'mere', 'creat', 'anoth', 'rule', 'better', 'grant', 'were', 'equip', 'someth', 'help', 'person', 'creat', 'perfect', 'initi', 'pass', 'got', 'drawn', 'puzzl', 'lot', 'chang', 'research', 'result', 'field', 'develop', 'improv', 'becom', 'industri', 'labori', 'care', 'natur', 'product', 'qualiti', 'effici', 'factor', 'a', 'thi', 'led', 'not-so-dist', 'employe', 'lead', 'popul', 'increas', 'world', 'becam', 'tech', 'market', 'then', 'again…', 'true', 'doe', 'oppos', 'adapt', 'million', 'lose', 'lead', 'creation', 'creator', 'fear', 'may', 'scari', 'truth', 'key', 'hold', 'unlock', 'whole', 'next', 'level', 'technolog', 'there', 'today', 'carri', 'nobodi', 'stop', 'wave', 'flow', 'swim', 'flow', 'avoid', 'drown', 'mani', 'evolv', 'covid', '19', 'situat', 'contactless', 'cashier', 'deliv', 'packag', 'usual', 'routin', 'secretari', 'schedul', 'book-keep', 'risk', 'manufactur', 'unit', 'agricultur', 'food', 'servic', 'retail', 'transport', 'logist', 'hospit', 'ai-affect', 'autom', 'estim', '20', 'especi', 'includ', 'robot', '3d', 'print', 'genet', 'way', 'architect', 'medic', 'doc', 'music', 'compos', 'feel', 'threaten', 'make', 'edg', 'brain', 'now', 'terrifi', 'much', 'replac', 'innov', 'invest', '133', 'gener', 'newli', 'enhanc', 'creat', 'benefit', 'amplifi', 'strategi', 'entrepreneuri', 'so', 'catch', 'even', '3', 'time', 'destroy', 'count', 'surg', 'job', 'senior', 'data', 'scientist', 'mobil', 'applic', 'develop', 'seo', 'specialist', 'heard', 'born', 'qualif', 'need', 'high-level', 'acquir', 'time-consum', 'task', 'cope', 'real', 'struggl', 'face', 'two', 'vulner', 'skill', 'gap', 'youth', 'crush', 'therefor', 'becom', 'inevit', 'remain', 'grow', 'compani', 'build', 'ai-readi', 'collabor', 'govern', 'educ', 'non-profit', 'organ', 'bring', 'polici', 'help', 'technolog', 'impact', 'faster', 'secur', 'busi', 'plan', 'consider', 'minim', 'impact', 'local', 'properli', 'maxim', 'provid', 'acquir', 'ai-bas', 'day-to-day', 'new', 'identifi', 'continu', 'learn', 'initi', 'employe', 'maxim', 'robot', 'quotient', 'core', 'model', 'role', 'howsoev', 'total', 'prove', 'still', 'first', 'secondli', 'bulk', 'environ', 'high', 'mainten', 'therefor', 'often', 'cheaper', 'consid', 'underdevelop', 'find', 'reskil', 'requir', 'play', 'role', 'year', 'riski', 'uneth', 'figur', 'held', 'respons', 'case', 'wrong', 'advanc', 'get', 'upper', 'hand', 'i.e.', 'skill', 'commun', 'critic', 'think', 'beat', 'yet', 'valu', 'leadership', 'emot', 'increas', 'although', 'caus', 'lack', 'human-to-human', 'interact', 'fade', 'away', 'littl', 'era', 'leader', 'capabl', 'handl', 'organ', 'enough', 'manag', 'traine', 'train', 'hold', 'profound', 'encourag', 'patient', 'calm', 'optim', 'conclus', 'ye', 'noth', 'overcom', 'adapt', 'up-grad', 'primari', 'factor', 'surviv', 'wit', 'onset', '4th', 'buckl', 'seat', 'highway', 'essenti', 'fuel', '(', ')', 'elimin', 'after', 'unend', 'infin', 'end', 'tri', 'run', 'fuel', 'tri', 'outdat']\n"
     ]
    }
   ],
   "source": [
    "# Stemming\n",
    "from nltk.stem import PorterStemmer\n",
    "from nltk.tokenize import sent_tokenize, word_tokenize\n",
    "\n",
    "ps = PorterStemmer()\n",
    "\n",
    "stemmed_words=[]\n",
    "for w in filtered_sent:\n",
    "    stemmed_words.append(ps.stem(w))\n",
    "\n",
    "print(\"Filtered Sentence:\",filtered_sent)\n",
    "print(\"Stemmed Sentence:\",stemmed_words)\n"
   ]
  },
  {
   "cell_type": "code",
   "execution_count": 14,
   "id": "54a3c66d",
   "metadata": {},
   "outputs": [],
   "source": [
    "total_clean_words=len(filtered_sent)"
   ]
  },
  {
   "cell_type": "code",
   "execution_count": 15,
   "id": "dbc90029",
   "metadata": {},
   "outputs": [
    {
     "name": "stdout",
     "output_type": "stream",
     "text": [
      "total words present in a list is 511\n"
     ]
    }
   ],
   "source": [
    "print('total words present in a list is',total_clean_words)"
   ]
  },
  {
   "cell_type": "markdown",
   "id": "9642825e",
   "metadata": {},
   "source": [
    "### Lemmatization \n",
    " - a text normalization technique used in Natural Language Processing (NLP), that switches any kind of a word to its base root mode"
   ]
  },
  {
   "cell_type": "code",
   "execution_count": 16,
   "id": "2e5c8643",
   "metadata": {},
   "outputs": [
    {
     "name": "stdout",
     "output_type": "stream",
     "text": [
      "Lemmatized Word: intelligence\n",
      "Stemmed Word: intellig\n"
     ]
    }
   ],
   "source": [
    "#Lexicon Normalization\n",
    "#performing stemming and Lemmatization\n",
    "\n",
    "from nltk.stem.wordnet import WordNetLemmatizer\n",
    "lem = WordNetLemmatizer()\n",
    "\n",
    "from nltk.stem.porter import PorterStemmer\n",
    "stem = PorterStemmer()\n",
    "\n",
    "word = \"intelligence\"\n",
    "print(\"Lemmatized Word:\",lem.lemmatize(word,\"v\"))\n",
    "print(\"Stemmed Word:\",stem.stem(word))\n"
   ]
  },
  {
   "cell_type": "markdown",
   "id": "f795cf88",
   "metadata": {},
   "source": [
    "### NLP Emotion Algorithm\n",
    " 1) Check if the word in the stemmed word list is also present in emotion.txt\n",
    "- open the emotion file\n",
    " - Loop through each line and clear it\n",
    " - Extract the word and emotion using split\n",
    "\n",
    "2) If word is present -> Add the emotion to emotion_list\n",
    "3) Finally count each emotion in the emotion list\n"
   ]
  },
  {
   "cell_type": "code",
   "execution_count": 17,
   "id": "73dff179",
   "metadata": {},
   "outputs": [
    {
     "name": "stdout",
     "output_type": "stream",
     "text": [
      "[' safe', ' lost']\n",
      "Counter({' safe': 1, ' lost': 1})\n"
     ]
    },
    {
     "data": {
      "text/plain": [
       "[',',\n",
       " '.',\n",
       " 'AI',\n",
       " '’',\n",
       " 'machines',\n",
       " 'skills',\n",
       " 'jobs',\n",
       " '?',\n",
       " 'humans',\n",
       " 'The',\n",
       " 'work',\n",
       " 'human',\n",
       " 'could',\n",
       " 'like',\n",
       " 'present',\n",
       " 'future',\n",
       " 'new',\n",
       " 'intelligence',\n",
       " 'something',\n",
       " 'Intelligence',\n",
       " 'making',\n",
       " 'choice',\n",
       " 'take',\n",
       " 'With',\n",
       " 'Will',\n",
       " 'learn',\n",
       " 'also',\n",
       " 'opportunities',\n",
       " 'minds',\n",
       " 'creating',\n",
       " 'matter',\n",
       " 'It',\n",
       " 'maybe',\n",
       " 'never',\n",
       " 'came',\n",
       " 'revolution',\n",
       " 'idea',\n",
       " 'people',\n",
       " 'skilled',\n",
       " 'Machines',\n",
       " 'unskilled',\n",
       " 'time',\n",
       " 'As',\n",
       " 'unemployment',\n",
       " 'around',\n",
       " 'technology',\n",
       " 'working',\n",
       " 'even',\n",
       " 'us',\n",
       " 'creativity',\n",
       " 'ones',\n",
       " 'together',\n",
       " 'employees',\n",
       " 'along',\n",
       " 'Human',\n",
       " 'However',\n",
       " 'mind',\n",
       " 'limitations',\n",
       " 'always',\n",
       " 'keep',\n",
       " 'comes',\n",
       " 'supremacy',\n",
       " 'question',\n",
       " 'Artificial',\n",
       " 'thing',\n",
       " 'carry',\n",
       " 'tasks',\n",
       " 'surpass',\n",
       " 'chess',\n",
       " 'defeated',\n",
       " 'machine',\n",
       " 'lost',\n",
       " 'power',\n",
       " 'tools',\n",
       " 'precision',\n",
       " 'Well',\n",
       " 'however',\n",
       " 'went',\n",
       " 'deeper',\n",
       " 'evolved',\n",
       " 'At',\n",
       " '&',\n",
       " 'growing',\n",
       " 'part',\n",
       " 'industrial',\n",
       " 'In',\n",
       " 'taken',\n",
       " 'replaced',\n",
       " 'evolution',\n",
       " 'mass',\n",
       " 'control',\n",
       " 'made',\n",
       " 'better',\n",
       " 'fear',\n",
       " 'need',\n",
       " 'threat',\n",
       " 'labor',\n",
       " 'really',\n",
       " 'make',\n",
       " 'No',\n",
       " 'seem',\n",
       " 'reality',\n",
       " 'implemented',\n",
       " 'advancement',\n",
       " 'growth',\n",
       " 'already',\n",
       " 'generation',\n",
       " 'generations',\n",
       " 'come',\n",
       " 'challenging',\n",
       " 'robots',\n",
       " 'said',\n",
       " 'million',\n",
       " 'manufacturing',\n",
       " 'economic',\n",
       " 'These',\n",
       " 'one',\n",
       " 'though',\n",
       " 'expensive',\n",
       " 'might',\n",
       " 'able',\n",
       " 'adapt',\n",
       " 'equip',\n",
       " 'workplace',\n",
       " 'They',\n",
       " 'understand',\n",
       " 'providing',\n",
       " 'proper',\n",
       " 'upskilling',\n",
       " 'coming',\n",
       " 'good',\n",
       " 'countries',\n",
       " 'hard',\n",
       " 'soft',\n",
       " 'teamwork',\n",
       " 'Leaders',\n",
       " 'going',\n",
       " 'let',\n",
       " 'race',\n",
       " 'fascination',\n",
       " 'carrying',\n",
       " 'potential',\n",
       " 'tinkering',\n",
       " 'nature',\n",
       " 'pixie',\n",
       " 'dust',\n",
       " 'solving',\n",
       " 'mysteries',\n",
       " 'wonders',\n",
       " 'anything',\n",
       " 'admiration',\n",
       " 'captivating',\n",
       " 'sometimes',\n",
       " 'appalled',\n",
       " 'hunger',\n",
       " 'desire',\n",
       " 'want',\n",
       " 'go',\n",
       " 'beyond',\n",
       " 'unravel',\n",
       " 'pure',\n",
       " 'greed',\n",
       " 'Humans',\n",
       " 'stopped',\n",
       " 'evolving',\n",
       " 'makes',\n",
       " 'supreme',\n",
       " 'calls',\n",
       " 'evolve',\n",
       " 'opposed',\n",
       " 'challenge',\n",
       " 'capabilities',\n",
       " 'importance',\n",
       " 'among',\n",
       " 'havoc',\n",
       " 'first',\n",
       " 'light',\n",
       " 'concept',\n",
       " 'granting',\n",
       " '–The',\n",
       " 'back',\n",
       " '19s',\n",
       " 'Back',\n",
       " 'believe',\n",
       " 'non-living',\n",
       " 'think',\n",
       " 'mention',\n",
       " 'actually',\n",
       " 'facts',\n",
       " 'By',\n",
       " '1997',\n",
       " 'greatest',\n",
       " 'player',\n",
       " 'Garry',\n",
       " 'Kasparov',\n",
       " 'game',\n",
       " 'exactly',\n",
       " 'top',\n",
       " 'mere',\n",
       " 'created',\n",
       " 'another',\n",
       " 'rule',\n",
       " 'betterment',\n",
       " 'granted',\n",
       " 'Were',\n",
       " 'Equipment',\n",
       " 'Something',\n",
       " 'helped',\n",
       " 'person',\n",
       " 'creates',\n",
       " 'perfection',\n",
       " 'initially',\n",
       " 'passed',\n",
       " 'got',\n",
       " 'drawn',\n",
       " 'puzzle',\n",
       " 'lot',\n",
       " 'changed',\n",
       " 'research',\n",
       " 'result',\n",
       " 'field',\n",
       " 'develops',\n",
       " 'improves',\n",
       " 'become',\n",
       " 'industries',\n",
       " 'laborious',\n",
       " 'care',\n",
       " 'Naturally',\n",
       " 'productivity',\n",
       " 'quality',\n",
       " 'efficiencies',\n",
       " 'factors',\n",
       " 'A',\n",
       " 'This',\n",
       " 'led',\n",
       " 'not-so-distant',\n",
       " 'employee',\n",
       " 'leading',\n",
       " 'population',\n",
       " 'increase',\n",
       " 'world',\n",
       " 'became',\n",
       " 'tech',\n",
       " 'market',\n",
       " 'Then',\n",
       " 'again…',\n",
       " 'true',\n",
       " 'Does',\n",
       " 'oppose',\n",
       " 'adapting',\n",
       " 'millions',\n",
       " 'lose',\n",
       " 'lead',\n",
       " 'creation',\n",
       " 'creator',\n",
       " 'fearful',\n",
       " 'may',\n",
       " 'scary',\n",
       " 'Truth',\n",
       " 'key',\n",
       " 'holds',\n",
       " 'unlock',\n",
       " 'whole',\n",
       " 'next',\n",
       " 'level',\n",
       " 'Technology',\n",
       " 'There',\n",
       " 'today',\n",
       " 'carried',\n",
       " 'Nobody',\n",
       " 'stop',\n",
       " 'wave',\n",
       " 'flowing',\n",
       " 'swim',\n",
       " 'flow',\n",
       " 'avoid',\n",
       " 'drowning',\n",
       " 'Many',\n",
       " 'evolves',\n",
       " 'COVID',\n",
       " '19',\n",
       " 'situation',\n",
       " 'contactless',\n",
       " 'cashiers',\n",
       " 'delivering',\n",
       " 'packages',\n",
       " 'usual',\n",
       " 'routine',\n",
       " 'Secretaries',\n",
       " 'Schedulers',\n",
       " 'book-keeper',\n",
       " 'risk',\n",
       " 'Manufacturing',\n",
       " 'units',\n",
       " 'agriculture',\n",
       " 'food',\n",
       " 'services',\n",
       " 'retail',\n",
       " 'transportation',\n",
       " 'logistic',\n",
       " 'hospitality',\n",
       " 'AI-affected',\n",
       " 'automation',\n",
       " 'estimation',\n",
       " '20',\n",
       " 'especially',\n",
       " 'including',\n",
       " 'robotics',\n",
       " '3D',\n",
       " 'printing',\n",
       " 'genetics',\n",
       " 'way',\n",
       " 'architects',\n",
       " 'medical',\n",
       " 'docs',\n",
       " 'music',\n",
       " 'composers',\n",
       " 'feel',\n",
       " 'threatened',\n",
       " 'Making',\n",
       " 'edge',\n",
       " 'brain',\n",
       " 'Now',\n",
       " 'terrifying',\n",
       " 'much',\n",
       " 'replacing',\n",
       " 'innovation',\n",
       " 'investment',\n",
       " '133',\n",
       " 'generated',\n",
       " 'newly',\n",
       " 'enhanced',\n",
       " 'create',\n",
       " 'benefits',\n",
       " 'amplify',\n",
       " 'strategy',\n",
       " 'entrepreneurial',\n",
       " 'So',\n",
       " 'catch',\n",
       " 'Even',\n",
       " '3',\n",
       " 'times',\n",
       " 'destroying',\n",
       " 'count',\n",
       " 'surged',\n",
       " 'job',\n",
       " 'Senior',\n",
       " 'Data',\n",
       " 'Scientist',\n",
       " 'Mobile',\n",
       " 'Application',\n",
       " 'Developer',\n",
       " 'SEO',\n",
       " 'specialist',\n",
       " 'heard',\n",
       " 'born',\n",
       " 'qualification',\n",
       " 'needs',\n",
       " 'high-level',\n",
       " 'acquire',\n",
       " 'time-consuming',\n",
       " 'task',\n",
       " 'cope',\n",
       " 'real',\n",
       " 'struggle',\n",
       " 'faced',\n",
       " 'two',\n",
       " 'vulnerability',\n",
       " 'skill',\n",
       " 'gap',\n",
       " 'youths',\n",
       " 'crushed',\n",
       " 'Therefore',\n",
       " 'becomes',\n",
       " 'inevitable',\n",
       " 'remains',\n",
       " 'grow',\n",
       " 'companies',\n",
       " 'build',\n",
       " 'AI-ready',\n",
       " 'collaborate',\n",
       " 'government',\n",
       " 'educators',\n",
       " 'non-profit',\n",
       " 'organizations',\n",
       " 'bring',\n",
       " 'policies',\n",
       " 'help',\n",
       " 'technologies',\n",
       " 'impacts',\n",
       " 'faster',\n",
       " 'security',\n",
       " 'business',\n",
       " 'planning',\n",
       " 'considerable',\n",
       " 'minimizing',\n",
       " 'impact',\n",
       " 'local',\n",
       " 'properly',\n",
       " 'maximizing',\n",
       " 'provided',\n",
       " 'acquiring',\n",
       " 'AI-based',\n",
       " 'day-to-day',\n",
       " 'New',\n",
       " 'identified',\n",
       " 'continual',\n",
       " 'learning',\n",
       " 'initiatives',\n",
       " 'Employees',\n",
       " 'maximize',\n",
       " 'Robotic',\n",
       " 'Quotient',\n",
       " 'core',\n",
       " 'models',\n",
       " 'roles',\n",
       " 'Howsoever',\n",
       " 'totally',\n",
       " 'proves',\n",
       " 'still',\n",
       " 'First',\n",
       " 'secondly',\n",
       " 'bulk',\n",
       " 'environment',\n",
       " 'high',\n",
       " 'maintenance',\n",
       " 'therefore',\n",
       " 'often',\n",
       " 'cheaper',\n",
       " 'considered',\n",
       " 'Underdeveloped',\n",
       " 'find',\n",
       " 'reskilling',\n",
       " 'required',\n",
       " 'play',\n",
       " 'role',\n",
       " 'years',\n",
       " 'risky',\n",
       " 'unethical',\n",
       " 'figure',\n",
       " 'held',\n",
       " 'responsible',\n",
       " 'cases',\n",
       " 'wrong',\n",
       " 'advanced',\n",
       " 'gets',\n",
       " 'upper',\n",
       " 'hand',\n",
       " 'i.e.',\n",
       " 'Skills',\n",
       " 'communication',\n",
       " 'critical',\n",
       " 'thinking',\n",
       " 'beat',\n",
       " 'yet',\n",
       " 'value',\n",
       " 'leadership',\n",
       " 'emotional',\n",
       " 'increased',\n",
       " 'Although',\n",
       " 'causing',\n",
       " 'lack',\n",
       " 'human-to-human',\n",
       " 'interaction',\n",
       " 'fade',\n",
       " 'away',\n",
       " 'little',\n",
       " 'era',\n",
       " 'leaders',\n",
       " 'capable',\n",
       " 'handling',\n",
       " 'organized',\n",
       " 'enough',\n",
       " 'manage',\n",
       " 'trainees',\n",
       " 'training',\n",
       " 'hold',\n",
       " 'profound',\n",
       " 'encourage',\n",
       " 'patient',\n",
       " 'calm',\n",
       " 'optimized',\n",
       " 'conclusion',\n",
       " 'yes',\n",
       " 'nothing',\n",
       " 'overcome',\n",
       " 'Adaptation',\n",
       " 'up-gradation',\n",
       " 'primary',\n",
       " 'factor',\n",
       " 'survival',\n",
       " 'witness',\n",
       " 'onset',\n",
       " '4th',\n",
       " 'buckle',\n",
       " 'seats',\n",
       " 'highway',\n",
       " 'essential',\n",
       " 'fuels',\n",
       " '(',\n",
       " ')',\n",
       " 'eliminated',\n",
       " 'After',\n",
       " 'unending',\n",
       " 'infinity',\n",
       " 'end',\n",
       " 'try',\n",
       " 'run',\n",
       " 'fuel',\n",
       " 'Try',\n",
       " 'outdated']"
      ]
     },
     "execution_count": 17,
     "metadata": {},
     "output_type": "execute_result"
    }
   ],
   "source": [
    "from collections import Counter\n",
    "emotion_list = []\n",
    "with open('emotions.txt', 'r') as file:\n",
    "    for line in file:\n",
    "        clear_line = line.replace(\"\\n\", '').replace(\",\", '').replace(\"'\", '').strip()\n",
    "        word, emotion = clear_line.split(':')\n",
    "\n",
    "        if word in stemmed_words:\n",
    "            emotion_list.append(emotion)\n",
    "\n",
    "print(emotion_list)\n",
    "w = Counter(emotion_list)\n",
    "print(w)\n",
    "filtered_sent"
   ]
  },
  {
   "cell_type": "code",
   "execution_count": 18,
   "id": "498c3f3d",
   "metadata": {},
   "outputs": [
    {
     "name": "stdout",
     "output_type": "stream",
     "text": [
      "[' angry', ' safe', ' adequate', ' sad', ' powerless', ' fearful', ' lost', ' adequate', ' hated', ' adequate', ' fearful']\n",
      "Counter({' adequate': 3, ' fearful': 2, ' angry': 1, ' safe': 1, ' sad': 1, ' powerless': 1, ' lost': 1, ' hated': 1})\n"
     ]
    }
   ],
   "source": [
    "from collections import Counter\n",
    "emotion_list = []\n",
    "with open('emotions.txt', 'r') as file:\n",
    "    for line in file:\n",
    "        clear_line = line.replace(\"\\n\", '').replace(\",\", '').replace(\"'\", '').strip()\n",
    "        word, emotion = clear_line.split(':')\n",
    "\n",
    "        if word in filtered_sent:\n",
    "            emotion_list.append(emotion)\n",
    "\n",
    "print(emotion_list)\n",
    "w = Counter(emotion_list)\n",
    "print(w)"
   ]
  },
  {
   "cell_type": "code",
   "execution_count": 19,
   "id": "ac990265",
   "metadata": {},
   "outputs": [
    {
     "name": "stdout",
     "output_type": "stream",
     "text": [
      "the length the complex words are : 11\n"
     ]
    }
   ],
   "source": [
    "complex_word_length=len(emotion_list)\n",
    "print('the length the complex words are :',complex_word_length)"
   ]
  },
  {
   "cell_type": "markdown",
   "id": "d4333d40",
   "metadata": {},
   "source": [
    "### observation - \n",
    "<b>As see here here, the emotions detection result is not good for the stemmed words but it gives very nice result without stemmed words,\n",
    "<b>So here we can say that we carried out the without stemmed words for extracting the desired variables"
   ]
  },
  {
   "cell_type": "code",
   "execution_count": 20,
   "id": "deadc3ee",
   "metadata": {},
   "outputs": [
    {
     "data": {
      "image/png": "[encoded data removed]",
      "text/plain": [
       "<Figure size 432x288 with 1 Axes>"
      ]
     },
     "metadata": {
      "needs_background": "light"
     },
     "output_type": "display_data"
    }
   ],
   "source": [
    "import matplotlib.pyplot as plt\n",
    "fig,ax1=plt.subplots()\n",
    "ax1.bar(w.keys(),w.values())\n",
    "fig.autofmt_xdate()\n",
    "plt.show()"
   ]
  },
  {
   "cell_type": "markdown",
   "id": "739a0ef1",
   "metadata": {},
   "source": [
    "### Positive and negative Analyzer"
   ]
  },
  {
   "cell_type": "code",
   "execution_count": 21,
   "id": "3b5cbce6",
   "metadata": {},
   "outputs": [],
   "source": [
    "from nltk.sentiment.vader import SentimentIntensityAnalyzer"
   ]
  },
  {
   "cell_type": "code",
   "execution_count": 22,
   "id": "5f03db2f",
   "metadata": {},
   "outputs": [
    {
     "name": "stderr",
     "output_type": "stream",
     "text": [
      "[nltk_data] Downloading package vader_lexicon to\n",
      "[nltk_data]     C:\\Users\\Lenovo\\AppData\\Roaming\\nltk_data...\n",
      "[nltk_data]   Package vader_lexicon is already up-to-date!\n"
     ]
    },
    {
     "data": {
      "text/plain": [
       "True"
      ]
     },
     "execution_count": 22,
     "metadata": {},
     "output_type": "execute_result"
    }
   ],
   "source": [
    "import nltk\n",
    "nltk.download('vader_lexicon')"
   ]
  },
  {
   "cell_type": "code",
   "execution_count": 23,
   "id": "308b7b23",
   "metadata": {},
   "outputs": [
    {
     "name": "stdout",
     "output_type": "stream",
     "text": [
      "Positive Sentiment\n"
     ]
    }
   ],
   "source": [
    "def sentiment_analyse(sentiment_text):\n",
    "    score = SentimentIntensityAnalyzer().polarity_scores(sentiment_text)\n",
    "    if score['neg'] > score['pos']:\n",
    "        print(\"Negative Sentiment\")\n",
    "    elif score['neg'] < score['pos']:\n",
    "        print(\"Positive Sentiment\")\n",
    "    else:\n",
    "        print(\"Neutral Sentiment\")\n",
    "\n",
    "\n",
    "sentiment_analyse(text)"
   ]
  },
  {
   "cell_type": "markdown",
   "id": "c2061cf3",
   "metadata": {},
   "source": [
    "### 1. Derived variables"
   ]
  },
  {
   "cell_type": "code",
   "execution_count": 25,
   "id": "b177ce87",
   "metadata": {},
   "outputs": [
    {
     "name": "stdout",
     "output_type": "stream",
     "text": [
      "{'neg': 0.084, 'neu': 0.766, 'pos': 0.15, 'compound': 0.9984}\n",
      "the polarity Score of text is 0.28205007670907384\n",
      "Subjectivity score is :  0.0004579256351116915\n"
     ]
    }
   ],
   "source": [
    "def sentiment_analyse(sentiment_text):\n",
    "    score = SentimentIntensityAnalyzer().polarity_scores(sentiment_text)\n",
    "    print(score)\n",
    "    polarity_Score = (score['pos']-score['neg']) / ((score['pos']+score['neg']) + 0.000001)\n",
    "    print('the polarity Score of text is',polarity_Score)\n",
    "    subjectivity_Score = (score['pos'] + score['neg']) / ((total_clean_words) + 0.000001)\n",
    "    print(\"Subjectivity score is : \",subjectivity_Score)\n",
    "\n",
    "sentiment_analyse(text)\n"
   ]
  },
  {
   "cell_type": "markdown",
   "id": "adf99358",
   "metadata": {},
   "source": [
    "### 2. Analysis of Readability"
   ]
  },
  {
   "cell_type": "code",
   "execution_count": 26,
   "id": "8d4521b3",
   "metadata": {},
   "outputs": [
    {
     "name": "stdout",
     "output_type": "stream",
     "text": [
      "Average of sentence length is : 5.166359729895642\n",
      "Percentage of Complex words 0.0013070342205323193\n",
      "the fog index is : 2.0670667056464693\n"
     ]
    }
   ],
   "source": [
    "def sentiment_analyse(sentiment_text):\n",
    "    score = SentimentIntensityAnalyzer().polarity_scores(sentiment_text)\n",
    "    Average_Sentence_Length = total_word / total_sent\n",
    "    print(\"Average of sentence length is :\",Average_Sentence_Length)\n",
    "    Percent_Complex_words = complex_word_length/ total_word\n",
    "    print(\"Percentage of Complex words\",Percent_Complex_words)\n",
    "    Index = 0.4 * (Average_Sentence_Length+Percent_Complex_words)\n",
    "    print('the fog index is :',Index)\n",
    "\n",
    "sentiment_analyse(text)"
   ]
  },
  {
   "cell_type": "markdown",
   "id": "53f603c0",
   "metadata": {},
   "source": [
    "### 3. Average Number of Words Per Sentence"
   ]
  },
  {
   "cell_type": "code",
   "execution_count": 27,
   "id": "02a9b687",
   "metadata": {},
   "outputs": [
    {
     "name": "stdout",
     "output_type": "stream",
     "text": [
      "Average Number of Words Per Sentence is : 5.166359729895642\n"
     ]
    }
   ],
   "source": [
    "Average_Words_Per_Sentence = total_word / total_sent\n",
    "print('Average Number of Words Per Sentence is :',Average_Words_Per_Sentence)"
   ]
  },
  {
   "cell_type": "markdown",
   "id": "7b9ee598",
   "metadata": {},
   "source": [
    "### 4. Complex Word Count"
   ]
  },
  {
   "cell_type": "code",
   "execution_count": 40,
   "id": "495d3bfe",
   "metadata": {},
   "outputs": [
    {
     "name": "stdout",
     "output_type": "stream",
     "text": [
      "183\n"
     ]
    }
   ],
   "source": [
    "#Complex words are words in the text that contain more than two syllables.\n",
    "input_string=text.casefold()\n",
    "syllable=0\n",
    "vowels=['a','i','o','u','l']\n",
    "for char in input_string:\n",
    "    if char in vowels:\n",
    "        if char > vowels[2]:\n",
    "            syllable=syllable+1\n",
    "            \n",
    "print(syllable)"
   ]
  },
  {
   "cell_type": "markdown",
   "id": "801de81e",
   "metadata": {},
   "source": [
    "### 5. Word Count"
   ]
  },
  {
   "cell_type": "code",
   "execution_count": 28,
   "id": "c86c6da9",
   "metadata": {},
   "outputs": [
    {
     "name": "stdout",
     "output_type": "stream",
     "text": [
      "total clean words present in a text is 511\n"
     ]
    }
   ],
   "source": [
    "print('total clean words present in a text is',total_clean_words)"
   ]
  },
  {
   "cell_type": "markdown",
   "id": "b9cfe504",
   "metadata": {},
   "source": [
    "### 6. Syllable Count Per Word"
   ]
  },
  {
   "cell_type": "code",
   "execution_count": 41,
   "id": "d8dea966",
   "metadata": {},
   "outputs": [
    {
     "name": "stdout",
     "output_type": "stream",
     "text": [
      "Numberof syllabel present in cleaned text is : 2551\n"
     ]
    }
   ],
   "source": [
    "vowel=['a','e','i','o','u']\n",
    "exception=['es','ed']\n",
    "count=0\n",
    "for char in text:\n",
    "    if char in vowel:\n",
    "        if char not in exception:\n",
    "            count=count+1\n",
    "\n",
    "print('Numberof syllabel present in cleaned text is :',count)"
   ]
  },
  {
   "cell_type": "markdown",
   "id": "172fb1c9",
   "metadata": {},
   "source": [
    "### 7. Personal Pronouns"
   ]
  },
  {
   "cell_type": "code",
   "execution_count": 30,
   "id": "3118b97b",
   "metadata": {},
   "outputs": [
    {
     "name": "stdout",
     "output_type": "stream",
     "text": [
      "Personal Pronouns mentioned in the text 35\n"
     ]
    }
   ],
   "source": [
    "#To calculate Personal Pronouns mentioned in the text, we use regex to find the counts of the words -\n",
    "#“I,” “we,” “my,” “ours,” and “us”. Special care is taken so that the country name US is not included in the list.\n",
    "pronouns=['I', 'we,','my','ours','and','us']\n",
    "count=0\n",
    "for char in text:\n",
    "    if char in pronouns:\n",
    "        with open('StopWords_Geographic.txt', 'r') as file:\n",
    "            if char not in file:\n",
    "                count=count+1\n",
    "print(\"Personal Pronouns mentioned in the text\",count)"
   ]
  },
  {
   "cell_type": "markdown",
   "id": "3e8cba26",
   "metadata": {},
   "source": [
    "### 8. Average Word Length"
   ]
  },
  {
   "cell_type": "code",
   "execution_count": 31,
   "id": "e09a582c",
   "metadata": {},
   "outputs": [
    {
     "name": "stdout",
     "output_type": "stream",
     "text": [
      "511\n"
     ]
    }
   ],
   "source": [
    "word_length=len(filtered_sent)\n",
    "print(word_length)"
   ]
  },
  {
   "cell_type": "code",
   "execution_count": 32,
   "id": "497995db",
   "metadata": {},
   "outputs": [
    {
     "name": "stdout",
     "output_type": "stream",
     "text": [
      "total number of characters in each word 6.5870841487279845\n",
      "The number of characters in each word 3366\n"
     ]
    }
   ],
   "source": [
    "count=0\n",
    "for word in filtered_sent:\n",
    "    for char in word:\n",
    "        count=count+1\n",
    "average_word_len=count/word_length\n",
    "print('total number of characters in each word',average_word_len)\n",
    "print('The number of characters in each word',count)\n",
    "#Sum of the total number of characters in each word/Total number of words"
   ]
  },
  {
   "cell_type": "markdown",
   "id": "d13ab7c1",
   "metadata": {},
   "source": []
  }
 ],
 "metadata": {
  "kernelspec": {
   "display_name": "Python 3 (ipykernel)",
   "language": "python",
   "name": "python3"
  },
  "language_info": {
   "codemirror_mode": {
    "name": "ipython",
    "version": 3
   },
   "file_extension": ".py",
   "mimetype": "text/x-python",
   "name": "python",
   "nbconvert_exporter": "python",
   "pygments_lexer": "ipython3",
   "version": "3.9.7"
  }
 },
 "nbformat": 4,
 "nbformat_minor": 5
}
